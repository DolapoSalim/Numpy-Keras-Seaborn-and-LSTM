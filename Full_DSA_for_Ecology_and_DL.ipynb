{
  "cells": [
    {
      "cell_type": "markdown",
      "metadata": {},
      "source": [
        "#### \ud83c\udf31 Data Structures & Algorithms for Applied Deep Learning & Ecology\n",
        "This notebook introduces essential DSA concepts using practical examples tailored to your deep learning, ecology, and real-world data work."
      ]
    },
    {
      "cell_type": "markdown",
      "metadata": {},
      "source": [
        "##### \u2705 Week 1: Lists, Tuples, and Dictionaries\n",
        "**Usage:** store and organize bounding boxes, species, or labels."
      ]
    },
    {
      "cell_type": "code",
      "execution_count": null,
      "metadata": {},
      "outputs": [],
      "source": [
        "# List of bounding boxes (x1, y1, x2, y2)\n",
        "boxes = [(10, 20, 50, 60), (30, 40, 70, 90)]\n",
        "print(\"First box:\", boxes[0])\n",
        "\n",
        "# Dictionary of species and counts\n",
        "species_counts = {\"CYSTOSEIRA\": 12, \"TURF\": 7}\n",
        "print(\"TURF count:\", species_counts[\"TURF\"])"
      ]
    },
    {
      "cell_type": "markdown",
      "metadata": {},
      "source": [
        "##### \u2705 Week 2: Sets and Basic Functions\n",
        "**Usage:** remove duplicates, define useful functions for data cleaning."
      ]
    },
    {
      "cell_type": "code",
      "execution_count": null,
      "metadata": {},
      "outputs": [],
      "source": [
        "# Remove duplicates from species list\n",
        "detections = [\"CYSTOSEIRA\", \"TURF\", \"CYSTOSEIRA\", \"DEAD\"]\n",
        "unique_species = set(detections)\n",
        "print(\"Unique species:\", unique_species)\n",
        "\n",
        "# Function to return unique species\n",
        "def get_unique_species(detection_list):\n",
        "    return list(set(detection_list))\n",
        "\n",
        "print(get_unique_species(detections))"
      ]
    },
    {
      "cell_type": "markdown",
      "metadata": {},
      "source": [
        "##### \u2705 Week 3: Sorting and Searching\n",
        "**Usage:** rank detections, fast lookup."
      ]
    },
    {
      "cell_type": "code",
      "execution_count": null,
      "metadata": {},
      "outputs": [],
      "source": [
        "# Sort detections by confidence\n",
        "detections = [(0.85, \"CYSTOSEIRA\"), (0.65, \"TURF\"), (0.95, \"DEAD\")]\n",
        "sorted_detections = sorted(detections, key=lambda x: x[0], reverse=True)\n",
        "print(\"Sorted detections:\", sorted_detections)\n",
        "\n",
        "# Search function\n",
        "def species_found(species, species_list):\n",
        "    return species in species_list\n",
        "\n",
        "print(\"Is 'TURF' found?:\", species_found(\"TURF\", [s[1] for s in detections]))"
      ]
    },
    {
      "cell_type": "markdown",
      "metadata": {},
      "source": [
        "##### \u2705 Week 4: Hash Maps and Counters\n",
        "**Usage:** quick species frequency analysis across many images."
      ]
    },
    {
      "cell_type": "code",
      "execution_count": null,
      "metadata": {},
      "outputs": [],
      "source": [
        "from collections import Counter\n",
        "\n",
        "detections = [\"TURF\", \"CYSTOSEIRA\", \"TURF\", \"TURF\", \"DEAD\"]\n",
        "species_freq = Counter(detections)\n",
        "print(\"Species frequency:\", species_freq)\n",
        "print(\"Most common:\", species_freq.most_common(2))"
      ]
    },
    {
      "cell_type": "markdown",
      "metadata": {},
      "source": [
        "##### \u2705 Week 5: Stacks and Queues\n",
        "**Usage:** handle real-time prediction frames or processing history."
      ]
    },
    {
      "cell_type": "code",
      "execution_count": null,
      "metadata": {},
      "outputs": [],
      "source": [
        "from collections import deque\n",
        "\n",
        "# Queue of image frames\n",
        "frame_queue = deque(maxlen=3)\n",
        "frame_queue.append(\"frame1.jpg\")\n",
        "frame_queue.append(\"frame2.jpg\")\n",
        "frame_queue.append(\"frame3.jpg\")\n",
        "frame_queue.append(\"frame4.jpg\")  # Oldest will be removed\n",
        "print(\"Current frame buffer:\", frame_queue)"
      ]
    },
    {
      "cell_type": "markdown",
      "metadata": {},
      "source": [
        "##### \u2705 Week 6: Trees and Recursion\n",
        "**Usage:** hierarchical structures like taxonomy or nested folders."
      ]
    },
    {
      "cell_type": "code",
      "execution_count": null,
      "metadata": {},
      "outputs": [],
      "source": [
        "# Species taxonomy as tree\n",
        "species_tree = {\n",
        "    \"Macroalgae\": {\n",
        "        \"Brown\": {\"Cystoseira\": {}, \"Padina\": {}},\n",
        "        \"Green\": {\"Ulva\": {}},\n",
        "    }\n",
        "}\n",
        "\n",
        "def print_tree(tree, indent=0):\n",
        "    for key, value in tree.items():\n",
        "        print(\" \" * indent + str(key))\n",
        "        print_tree(value, indent + 4)\n",
        "\n",
        "print_tree(species_tree)"
      ]
    }
  ],
  "metadata": {
    "kernelspec": {
      "display_name": "Python 3",
      "language": "python",
      "name": "python3",
      "author": "dolapo"
    },
    "language_info": {
      "name": "python",
      "version": ".10.0"
    }
  },
  "nbformat": 4,
  "nbformat_minor": 2
}